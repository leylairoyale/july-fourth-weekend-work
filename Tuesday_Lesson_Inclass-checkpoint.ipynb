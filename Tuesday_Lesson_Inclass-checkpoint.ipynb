{
 "cells": [
  {
   "cell_type": "markdown",
   "metadata": {},
   "source": [
    "# Functions, Scoping, Data Collections 1 & List Comprehensions"
   ]
  },
  {
   "cell_type": "markdown",
   "metadata": {},
   "source": [
    "## Tasks Today:\n",
    "\n",
    "<i>Monday Additions (or, and ... if statements)</i>\n",
    "\n",
    "1) String Manipulation <br>\n",
    " &nbsp;&nbsp;&nbsp;&nbsp; a) strip() <br>\n",
    " &nbsp;&nbsp;&nbsp;&nbsp; b) title() <br>\n",
    "2) Working With Lists <br>\n",
    " &nbsp;&nbsp;&nbsp;&nbsp; a) min() <br>\n",
    " &nbsp;&nbsp;&nbsp;&nbsp; b) max() <br>\n",
    " &nbsp;&nbsp;&nbsp;&nbsp; c) sum() <br>\n",
    " &nbsp;&nbsp;&nbsp;&nbsp; d) sort() <br>\n",
    " &nbsp;&nbsp;&nbsp;&nbsp; e) Copying a List <br>\n",
    " &nbsp;&nbsp;&nbsp;&nbsp; f) 'in' keyword <br>\n",
    " &nbsp;&nbsp;&nbsp;&nbsp; g) 'not in' keyword <br>\n",
    " &nbsp;&nbsp;&nbsp;&nbsp; i) Checking an Empty List <br>\n",
    " &nbsp;&nbsp;&nbsp;&nbsp; j) Removing Instances with a Loop <br>\n",
    "3) List Comprehensions <br>\n",
    "4) Tuples <br>\n",
    " &nbsp;&nbsp;&nbsp;&nbsp; a) sorted() <br>\n",
    "5) Functions <br>\n",
    " &nbsp;&nbsp;&nbsp;&nbsp; a) User-Defined vs. Built-In Functions <br>\n",
    " &nbsp;&nbsp;&nbsp;&nbsp; b) Accepting Parameters <br>\n",
    " &nbsp;&nbsp;&nbsp;&nbsp; c) Default Parameters <br>\n",
    " &nbsp;&nbsp;&nbsp;&nbsp; d) Making an Argument Optional <br>\n",
    " &nbsp;&nbsp;&nbsp;&nbsp; e) Keyword Arguments <br>\n",
    " &nbsp;&nbsp;&nbsp;&nbsp; f) Returning Values <br>\n",
    " &nbsp;&nbsp;&nbsp;&nbsp; g) *args <br>\n",
    " &nbsp;&nbsp;&nbsp;&nbsp; h) Docstring <br>\n",
    " &nbsp;&nbsp;&nbsp;&nbsp; i) Using a User Function in a Loop <br>\n",
    "6) Scope"
   ]
  },
  {
   "cell_type": "markdown",
   "metadata": {},
   "source": [
    "### Monday Additions"
   ]
  },
  {
   "cell_type": "markdown",
   "metadata": {},
   "source": [
    "##### Using 'or' in if statements"
   ]
  },
  {
   "cell_type": "code",
   "execution_count": null,
   "metadata": {},
   "outputs": [],
   "source": [
    "# covered yesterday"
   ]
  },
  {
   "cell_type": "markdown",
   "metadata": {},
   "source": [
    "##### Using 'and' in if statements"
   ]
  },
  {
   "cell_type": "code",
   "execution_count": null,
   "metadata": {},
   "outputs": [],
   "source": [
    "# covered yesterday"
   ]
  },
  {
   "cell_type": "markdown",
   "metadata": {},
   "source": [
    "##### Using both 'or' and 'and' in if statements"
   ]
  },
  {
   "cell_type": "code",
   "execution_count": null,
   "metadata": {},
   "outputs": [],
   "source": [
    "# covered yesterday"
   ]
  },
  {
   "cell_type": "markdown",
   "metadata": {},
   "source": [
    "### String Manipulation"
   ]
  },
  {
   "cell_type": "markdown",
   "metadata": {},
   "source": [
    "##### .lstrip()"
   ]
  },
  {
   "cell_type": "code",
   "execution_count": 2,
   "metadata": {},
   "outputs": [
    {
     "name": "stdout",
     "output_type": "stream",
     "text": [
      "leyla\n",
      "leyla\n",
      "ssleyal\n"
     ]
    }
   ],
   "source": [
    "# string.lstrip()\n",
    "name = \"   leyla\"\n",
    "print(name.lstrip())\n",
    "name = \"leyla   \"\n",
    "print(name.rstrip())\n",
    "name = \"    ssleyal   \"\n",
    "print(name.strip())\n",
    "\n"
   ]
  },
  {
   "cell_type": "markdown",
   "metadata": {},
   "source": [
    "##### .rstrip()"
   ]
  },
  {
   "cell_type": "code",
   "execution_count": null,
   "metadata": {},
   "outputs": [],
   "source": [
    "# string.rstrip()\n",
    "\n"
   ]
  },
  {
   "cell_type": "markdown",
   "metadata": {},
   "source": [
    "##### .strip()"
   ]
  },
  {
   "cell_type": "code",
   "execution_count": null,
   "metadata": {},
   "outputs": [],
   "source": [
    "# string.strip()\n",
    "\n"
   ]
  },
  {
   "cell_type": "markdown",
   "metadata": {},
   "source": [
    "##### .title()"
   ]
  },
  {
   "cell_type": "code",
   "execution_count": null,
   "metadata": {},
   "outputs": [],
   "source": [
    "# string.title()\n",
    "\n"
   ]
  },
  {
   "cell_type": "markdown",
   "metadata": {},
   "source": [
    "### String Exercise <br>\n",
    "<p>Strip all white space and capitalize every name in the list given</p>"
   ]
  },
  {
   "cell_type": "code",
   "execution_count": 6,
   "metadata": {},
   "outputs": [
    {
     "name": "stdout",
     "output_type": "stream",
     "text": [
      "Connor\n",
      "Joel\n",
      "Dddddaaaaaddaaa\n",
      "Rriiipal\n"
     ]
    }
   ],
   "source": [
    "names = [\"     connor   \", \"joel    \", \"dddddaaaaaddaaa   \", \"  rriiipal \"]\n",
    "for name in names:\n",
    "    name = name.strip()\n",
    "    name = name.title()\n",
    "    print(name)\n"
   ]
  },
  {
   "cell_type": "code",
   "execution_count": 18,
   "metadata": {},
   "outputs": [
    {
     "data": {
      "text/plain": [
       "13"
      ]
     },
     "execution_count": 18,
     "metadata": {},
     "output_type": "execute_result"
    }
   ],
   "source": [
    "def sum_two_smallest_numbers(num_list):\n",
    "    num_list.sort()\n",
    "    return num_list[0] + num_list[1]\n",
    "\n",
    "num_list = [1,45,12,2536]\n",
    "sum_two_smallest_numbers(num_list)"
   ]
  },
  {
   "cell_type": "markdown",
   "metadata": {},
   "source": [
    "### Working With Lists"
   ]
  },
  {
   "cell_type": "markdown",
   "metadata": {},
   "source": [
    "##### min()"
   ]
  },
  {
   "cell_type": "code",
   "execution_count": 19,
   "metadata": {},
   "outputs": [
    {
     "name": "stdout",
     "output_type": "stream",
     "text": [
      "2\n"
     ]
    }
   ],
   "source": [
    "# min(list)\n",
    "random_list = [4,2,97, 54, 16]\n",
    "print(min(random_list))\n",
    "\n"
   ]
  },
  {
   "cell_type": "markdown",
   "metadata": {},
   "source": [
    "##### max()"
   ]
  },
  {
   "cell_type": "code",
   "execution_count": 20,
   "metadata": {},
   "outputs": [
    {
     "name": "stdout",
     "output_type": "stream",
     "text": [
      "97\n"
     ]
    }
   ],
   "source": [
    "# max(list)\n",
    "random_list = [4,2,97, 54, 16]\n",
    "print(max(random_list))\n"
   ]
  },
  {
   "cell_type": "markdown",
   "metadata": {},
   "source": [
    "##### sum()"
   ]
  },
  {
   "cell_type": "code",
   "execution_count": 21,
   "metadata": {},
   "outputs": [
    {
     "name": "stdout",
     "output_type": "stream",
     "text": [
      "173\n"
     ]
    }
   ],
   "source": [
    "# sum(list)\n",
    "random_list = [4,2,97, 54, 16]\n",
    "print(sum(random_list))\n",
    "\n"
   ]
  },
  {
   "cell_type": "markdown",
   "metadata": {},
   "source": [
    "##### sorted()"
   ]
  },
  {
   "cell_type": "code",
   "execution_count": 24,
   "metadata": {},
   "outputs": [
    {
     "name": "stdout",
     "output_type": "stream",
     "text": [
      "[4, 2, 97, 54, 16]\n",
      "[2, 4, 16, 54, 97]\n",
      "[2, 4, 16, 54, 97]\n",
      "[4, 2, 97, 54, 16]\n"
     ]
    }
   ],
   "source": [
    "# sorted(list)\n",
    "random_list = [4,2,97, 54, 16]\n",
    "print(random_list)\n",
    "sorted_list = sorted(random_list)\n",
    "print(sorted_list)\n",
    "\n",
    "print(sorted(random_list))\n",
    "print(random_list)\n",
    "\n",
    "\n"
   ]
  },
  {
   "cell_type": "markdown",
   "metadata": {},
   "source": [
    "##### .sort() <br>\n",
    "<p>Difference between sort and sorted, is that sorted doesn't change original list it returns a copy, while .sort changes the original list</p>"
   ]
  },
  {
   "cell_type": "code",
   "execution_count": null,
   "metadata": {},
   "outputs": [],
   "source": [
    "# list.sort()\n",
    "\n",
    "\n",
    "\n",
    "# use sorted when you don't want to alter original list, use .sort() when you want to alter original list"
   ]
  },
  {
   "cell_type": "markdown",
   "metadata": {},
   "source": [
    "##### Copying a List"
   ]
  },
  {
   "cell_type": "code",
   "execution_count": 25,
   "metadata": {},
   "outputs": [
    {
     "name": "stdout",
     "output_type": "stream",
     "text": [
      "[4, 2, 97, 54, 16]\n",
      "['Josh', 'Randle', 'Bobby', 'Mike0']\n"
     ]
    }
   ],
   "source": [
    "# [:] copies a list, doesn't alter original\n",
    "random_list2 = [\"Josh\", \"Randle\", \"Bobby\", \"Mike0\"]\n",
    "\n",
    "copied_list = random_list2[:]\n",
    "print(random_list)\n",
    "print(copied_list)\n",
    "\n"
   ]
  },
  {
   "cell_type": "markdown",
   "metadata": {},
   "source": [
    "##### 'in' keyword"
   ]
  },
  {
   "cell_type": "code",
   "execution_count": 29,
   "metadata": {},
   "outputs": [
    {
     "name": "stdout",
     "output_type": "stream",
     "text": [
      "josh is here but doesn't want to talk to you\n",
      "they told you to go away\n",
      "they gone\n",
      "no, not here\n",
      "no, not here\n",
      "no, not here\n",
      "no, not here\n"
     ]
    }
   ],
   "source": [
    "random_list2 = [\"Josh\", \"Randle\", \"Bobby\", \"Mike0\"]\n",
    "if \"Josh\" in random_list2:\n",
    "    print(\"josh is here but doesn't want to talk to you\")\n",
    "if \"Braccc\" not in random_list2:\n",
    "    print(\"they told you to go away\")\n",
    "    \n",
    "#checking if item is in list regardless of character case\n",
    "if \"Braaccc\".title() not in random_list2:\n",
    "    print(\"they gone\")\n",
    "    \n",
    "for i in random_list2:\n",
    "    if i.lower() != \"barbie\".lower:\n",
    "        print(\"no, not here\")"
   ]
  },
  {
   "cell_type": "markdown",
   "metadata": {},
   "source": [
    "##### 'not in' keyword"
   ]
  },
  {
   "cell_type": "code",
   "execution_count": null,
   "metadata": {},
   "outputs": [],
   "source": []
  },
  {
   "cell_type": "markdown",
   "metadata": {},
   "source": [
    "##### Checking an Empty List"
   ]
  },
  {
   "cell_type": "code",
   "execution_count": 30,
   "metadata": {},
   "outputs": [
    {
     "name": "stdout",
     "output_type": "stream",
     "text": [
      "empty\n"
     ]
    }
   ],
   "source": [
    "# if l_1: or if l_1 = []\n",
    "l_1 = []\n",
    "if l_1 == []:\n",
    "    print(\"empty\")\n",
    "\n"
   ]
  },
  {
   "cell_type": "markdown",
   "metadata": {},
   "source": [
    "##### Removing Instances with a Loop"
   ]
  },
  {
   "cell_type": "code",
   "execution_count": 2,
   "metadata": {},
   "outputs": [
    {
     "name": "stdout",
     "output_type": "stream",
     "text": [
      "['ronnie', 'bananaman', 'applestay']\n"
     ]
    },
    {
     "ename": "TypeError",
     "evalue": "'list' object cannot be interpreted as an integer",
     "output_type": "error",
     "traceback": [
      "\u001b[1;31m---------------------------------------------------------------------------\u001b[0m",
      "\u001b[1;31mTypeError\u001b[0m                                 Traceback (most recent call last)",
      "\u001b[1;32m<ipython-input-2-d5a376d49fe6>\u001b[0m in \u001b[0;36m<module>\u001b[1;34m\u001b[0m\n\u001b[0;32m      8\u001b[0m \u001b[1;33m\u001b[0m\u001b[0m\n\u001b[0;32m      9\u001b[0m \u001b[0mnames_list\u001b[0m \u001b[1;33m=\u001b[0m \u001b[1;33m[\u001b[0m\u001b[1;34m\"ronnie\"\u001b[0m\u001b[1;33m,\u001b[0m \u001b[1;34m\"bobby\"\u001b[0m\u001b[1;33m,\u001b[0m \u001b[1;34m\"bobby\"\u001b[0m\u001b[1;33m,\u001b[0m \u001b[1;34m\"bobby\"\u001b[0m\u001b[1;33m,\u001b[0m \u001b[1;34m\"bananaman\"\u001b[0m\u001b[1;33m,\u001b[0m \u001b[1;34m\"applestay\"\u001b[0m\u001b[1;33m,\u001b[0m \u001b[1;34m\"bobby\"\u001b[0m\u001b[1;33m]\u001b[0m\u001b[1;33m\u001b[0m\u001b[1;33m\u001b[0m\u001b[0m\n\u001b[1;32m---> 10\u001b[1;33m \u001b[1;32mfor\u001b[0m \u001b[0mi\u001b[0m \u001b[1;32min\u001b[0m \u001b[0mrange\u001b[0m\u001b[1;33m(\u001b[0m\u001b[0mnames_list\u001b[0m\u001b[1;33m[\u001b[0m\u001b[1;36m1\u001b[0m\u001b[1;33m:\u001b[0m\u001b[1;36m4\u001b[0m\u001b[1;33m]\u001b[0m\u001b[1;33m)\u001b[0m\u001b[1;33m:\u001b[0m\u001b[1;33m\u001b[0m\u001b[1;33m\u001b[0m\u001b[0m\n\u001b[0m\u001b[0;32m     11\u001b[0m     \u001b[0mnames_list\u001b[0m\u001b[1;33m.\u001b[0m\u001b[0mremove\u001b[0m\u001b[1;33m(\u001b[0m\u001b[1;34m\"bobby\"\u001b[0m\u001b[1;33m)\u001b[0m\u001b[1;33m\u001b[0m\u001b[1;33m\u001b[0m\u001b[0m\n\u001b[0;32m     12\u001b[0m \u001b[1;33m\u001b[0m\u001b[0m\n",
      "\u001b[1;31mTypeError\u001b[0m: 'list' object cannot be interpreted as an integer"
     ]
    }
   ],
   "source": [
    "# while, remove\n",
    "names_list = [\"ronnie\", \"bobby\", \"bananaman\", \"applestay\"]\n",
    "\n",
    "while \"bobby\" in names_list:\n",
    "    names_list.remove(\"bobby\")\n",
    "    \n",
    "print(names_list)\n",
    "\n",
    "names_list = [\"ronnie\", \"bobby\", \"bobby\", \"bobby\", \"bananaman\", \"applestay\", \"bobby\"]\n",
    "for i in range(names_list[1:4]):\n",
    "    names_list.remove(\"bobby\")\n",
    "    \n",
    "    \n",
    "\n",
    "print(names_list)\n"
   ]
  },
  {
   "cell_type": "markdown",
   "metadata": {},
   "source": [
    "### List Exercise <br>\n",
    "<p>Remove all duplicates<br><b>Extra: Create a program that will remove any duplicates from a given list</b></p>"
   ]
  },
  {
   "cell_type": "code",
   "execution_count": 9,
   "metadata": {},
   "outputs": [
    {
     "name": "stdout",
     "output_type": "stream",
     "text": [
      "['Rob', 'Bob', 'Josh', 'Billy', 'Ben', 2, 6, 7]\n"
     ]
    }
   ],
   "source": [
    "dup_list = [\"Rob\", \"Bob\", \"Rob\", \"Josh\", \"Billy\", \"Ben\", 2, 6, 6, 7]\n",
    "\n",
    "no_dups = []\n",
    "\n",
    "for dup in dup_list:\n",
    "    if dup not in no_dups:\n",
    "        no_dups.append(dup)\n",
    "\n",
    "print(no_dups)\n",
    "\n"
   ]
  },
  {
   "cell_type": "markdown",
   "metadata": {},
   "source": [
    "### List Comprehensions <br>\n",
    "<p>Creating a quickly generated list to work with<br>*result*  = [*transform*    *iteration*         *filter*     ]</p>"
   ]
  },
  {
   "cell_type": "code",
   "execution_count": 12,
   "metadata": {},
   "outputs": [
    {
     "name": "stdout",
     "output_type": "stream",
     "text": [
      "[0, 1, 2, 3, 4, 5, 6, 7, 8, 9, 10, 11, 12, 13, 14, 15, 16, 17, 18, 19, 20, 21, 22, 23, 24, 25, 26, 27, 28, 29, 30, 31, 32, 33, 34, 35, 36, 37, 38, 39, 40, 41, 42, 43, 44, 45, 46, 47, 48, 49, 50, 51, 52, 53, 54, 55, 56, 57, 58, 59, 60, 61, 62, 63, 64, 65, 66, 67, 68, 69, 70, 71, 72, 73, 74, 75, 76, 77, 78, 79, 80, 81, 82, 83, 84, 85, 86, 87, 88, 89, 90, 91, 92, 93, 94, 95, 96, 97, 98, 99]\n"
     ]
    }
   ],
   "source": [
    "# number comprehension\n",
    "#the x for x is like a for loop, adding every number in the loop. so, for\n",
    "#every x (item) in the list, grow by one x item\n",
    "group_nums = [x for x in range(100)]\n",
    "\n",
    "print(group_nums)"
   ]
  },
  {
   "cell_type": "code",
   "execution_count": 13,
   "metadata": {},
   "outputs": [
    {
     "name": "stdout",
     "output_type": "stream",
     "text": [
      "[0, 1, 4, 9, 16, 25, 36, 49, 64, 81]\n"
     ]
    }
   ],
   "source": [
    "# square number comprehension\n",
    "squares = [x**2 for x in range(10)]\n",
    "print(squares)\n",
    "\n"
   ]
  },
  {
   "cell_type": "code",
   "execution_count": 14,
   "metadata": {},
   "outputs": [
    {
     "name": "stdout",
     "output_type": "stream",
     "text": [
      "['C', 'M', 'E', 'R']\n"
     ]
    }
   ],
   "source": [
    "# string comprehension\n",
    "names = [\"Connor\", \"Max\", \"Evan\", \"Rob\"]\n",
    "\n",
    "first_char = [name[0] for name in names]\n",
    "\n",
    "print(first_char)\n"
   ]
  },
  {
   "cell_type": "code",
   "execution_count": 17,
   "metadata": {},
   "outputs": [
    {
     "name": "stdout",
     "output_type": "stream",
     "text": [
      "['Connor']\n",
      "Connor\n",
      "Max\n",
      "Evan\n",
      "Rob\n",
      "['Connor']\n"
     ]
    }
   ],
   "source": [
    "# using the 'if' statement ... if statement after for\n",
    "names = [\"Connor\", \"Max\", \"Evan\", \"Rob\"]\n",
    "c_names = [name for name in names if name[0] == \"C\"]\n",
    "\n",
    "print(c_names)\n",
    "\n",
    "test_c_names = []\n",
    "for name in names:\n",
    "    print(name)\n",
    "    if name[0] == \"C\":\n",
    "        test_c_names.append(name)\n",
    "print(test_c_names)\n"
   ]
  },
  {
   "cell_type": "code",
   "execution_count": 33,
   "metadata": {},
   "outputs": [
    {
     "data": {
      "text/plain": [
       "[[0, 1], [0, 1], [0, 1], [0, 1], [0, 1]]"
      ]
     },
     "execution_count": 33,
     "metadata": {},
     "output_type": "execute_result"
    }
   ],
   "source": [
    "# using multiplication outside the list, list comprehension within list comprehension\n",
    "\n",
    "grid1 = [[num for num in range(5)]for num in range(5)]\n",
    "\n",
    "grid1\n",
    "\n",
    "grid1 = [[ud for ud in range(5) if ud == 0 or ud == 1] for ud in range(5)]\n",
    "\n",
    "grid1"
   ]
  },
  {
   "cell_type": "markdown",
   "metadata": {},
   "source": [
    "## List Comprehension Exercise <br>\n",
    "<p>Create a grid of alternating 0's and 1's (5x5 grid)</p>"
   ]
  },
  {
   "cell_type": "code",
   "execution_count": 51,
   "metadata": {},
   "outputs": [
    {
     "data": {
      "text/plain": [
       "[[0, 1, 0, 1, 0],\n",
       " [0, 1, 0, 1, 0],\n",
       " [0, 1, 0, 1, 0],\n",
       " [0, 1, 0, 1, 0],\n",
       " [0, 1, 0, 1, 0]]"
      ]
     },
     "execution_count": 51,
     "metadata": {},
     "output_type": "execute_result"
    }
   ],
   "source": [
    "# hint use %\n",
    "grid = [[num % 1 for num in range(5)] for num in range(5)]\n",
    "grid2 = [[num % 2 for num in range(5)] for num in range(5)]\n",
    "\n",
    "grid2\n"
   ]
  },
  {
   "cell_type": "code",
   "execution_count": 43,
   "metadata": {},
   "outputs": [
    {
     "data": {
      "text/plain": [
       "[[0, 0, 0, 0, 0],\n",
       " [1, 1, 1, 1, 1],\n",
       " [0, 0, 0, 0, 0],\n",
       " [1, 1, 1, 1, 1],\n",
       " [0, 0, 0, 0, 0]]"
      ]
     },
     "execution_count": 43,
     "metadata": {},
     "output_type": "execute_result"
    }
   ],
   "source": [
    "grid = [[row % 2 for col in range(5)] for row in range(5)]\n",
    "\n",
    "grid\n",
    "\n",
    "#you can write literally anything for the user defined variables. but if you change them it\n",
    "#defines different things. doens't mean you're really talking about columns or rows, but python\n",
    "#reads it as just a different variable."
   ]
  },
  {
   "cell_type": "markdown",
   "metadata": {},
   "source": [
    "### Tuples <br>\n",
    "<p><b>Defined as an immutable list</b></p><br>Seperated by commas using parenthesis"
   ]
  },
  {
   "cell_type": "code",
   "execution_count": 3,
   "metadata": {},
   "outputs": [
    {
     "name": "stdout",
     "output_type": "stream",
     "text": [
      "<class 'tuple'>\n",
      "<class 'tuple'>\n",
      "4\n"
     ]
    },
    {
     "ename": "TypeError",
     "evalue": "'tuple' object does not support item assignment",
     "output_type": "error",
     "traceback": [
      "\u001b[1;31m---------------------------------------------------------------------------\u001b[0m",
      "\u001b[1;31mTypeError\u001b[0m                                 Traceback (most recent call last)",
      "\u001b[1;32m<ipython-input-3-2cf7ab0a8164>\u001b[0m in \u001b[0;36m<module>\u001b[1;34m\u001b[0m\n\u001b[0;32m      8\u001b[0m \u001b[1;33m\u001b[0m\u001b[0m\n\u001b[0;32m      9\u001b[0m \u001b[1;31m###change 4 to 5 inside of a tuple\u001b[0m\u001b[1;33m\u001b[0m\u001b[1;33m\u001b[0m\u001b[1;33m\u001b[0m\u001b[0m\n\u001b[1;32m---> 10\u001b[1;33m \u001b[0mt_2\u001b[0m\u001b[1;33m[\u001b[0m\u001b[1;36m0\u001b[0m\u001b[1;33m]\u001b[0m \u001b[1;33m=\u001b[0m \u001b[1;36m5\u001b[0m\u001b[1;33m\u001b[0m\u001b[1;33m\u001b[0m\u001b[0m\n\u001b[0m",
      "\u001b[1;31mTypeError\u001b[0m: 'tuple' object does not support item assignment"
     ]
    }
   ],
   "source": [
    "# can be defined with or without parens (try is instance)\n",
    "# type() you can create it like below:\n",
    "t_1 = 1, 2, 3,\n",
    "t_2 = (4,5,6)\n",
    "print(type(t_1))\n",
    "print(type(t_2))\n",
    "print(t_2[0])\n",
    "\n",
    "###change 4 to 5 inside of a tuple, but not possible. \n",
    "t_2[0] = 5\n"
   ]
  },
  {
   "cell_type": "markdown",
   "metadata": {},
   "source": [
    "##### sorted()"
   ]
  },
  {
   "cell_type": "code",
   "execution_count": 64,
   "metadata": {},
   "outputs": [
    {
     "name": "stdout",
     "output_type": "stream",
     "text": [
      "(3, 6, 1, 9, 4)\n",
      "[1, 3, 4, 6, 9]\n",
      "[3, 6, 1, 9, 4]\n"
     ]
    }
   ],
   "source": [
    "# sorted(tuple) ... returns a list\n",
    "#look at this for this weekend, has to do with bubblesort ands\n",
    "#one of the final questions\n",
    "#for bubblesort: it basically checks to see if you have a list, and if you\n",
    "#don't it then will return an empty list. \n",
    "#so for each part of your list it wants to check one index is less than the\n",
    "#second/next index, then they get swapped. if not, that means it's sorted.\n",
    "#it's called bubble sort because you're basically bubbling the larger to \n",
    "#the right and the smallest number to the left.\n",
    "t_3 = 3, 6, 1, 9, 4\n",
    "\n",
    "print(t_3)\n",
    "print(sorted(t_3))\n",
    "print(list(t_3))\n",
    "\n",
    "test_list = [3,4,8,9]\n",
    "for i in range(len(test_list)):\n",
    " #In-place assignment\n",
    "    if test_list[i] > test_list[i+1]:\n",
    "        test_list[i] = test_list[i + 1]\n",
    "    elif test_list[i] == 4:\n",
    "        break"
   ]
  },
  {
   "cell_type": "markdown",
   "metadata": {},
   "source": [
    "##### Adding values to a Tuple"
   ]
  },
  {
   "cell_type": "code",
   "execution_count": 9,
   "metadata": {},
   "outputs": [
    {
     "name": "stdout",
     "output_type": "stream",
     "text": [
      "(10, 11, 12, 13, 14)\n",
      "(10, 11, 12, 13, 14, 15)\n"
     ]
    }
   ],
   "source": [
    "t_4 = 10, 11, 12, 13, 14\n",
    "print(t_4)\n",
    "t_4 = t_4 + (15,)\n",
    "print(t_4)"
   ]
  },
  {
   "cell_type": "markdown",
   "metadata": {},
   "source": [
    "## Functions"
   ]
  },
  {
   "cell_type": "markdown",
   "metadata": {},
   "source": [
    "##### User-Defined vs. Built-In Functions"
   ]
  },
  {
   "cell_type": "code",
   "execution_count": 11,
   "metadata": {},
   "outputs": [
    {
     "name": "stdout",
     "output_type": "stream",
     "text": [
      "sup dudes\n",
      "range(0, 5)\n"
     ]
    }
   ],
   "source": [
    "#this is a user defined function\n",
    "def sayHello():\n",
    "    print(\"sup dudes\")\n",
    "sayHello()\n",
    "\n",
    "print(range(5))"
   ]
  },
  {
   "cell_type": "markdown",
   "metadata": {},
   "source": [
    "##### Accepting Parameters"
   ]
  },
  {
   "cell_type": "code",
   "execution_count": 56,
   "metadata": {},
   "outputs": [
    {
     "name": "stdout",
     "output_type": "stream",
     "text": [
      "Hello Tuna Pecs.\n"
     ]
    }
   ],
   "source": [
    "# order matters\n",
    "# can take in any type of variable\n",
    "\n",
    "# def sayHello(name):\n",
    "#     print('Hello {}'.format(name))\n",
    "    \n",
    "# sayHello('Connor')\n",
    "def printFullName(first_name, last_name):\n",
    "    print(\"Hello {} {}.\".format(first_name, last_name))\n",
    "          \n",
    "printFullName(\"Tuna\", \"Pecs\")\n",
    "#first_name and last_name are conditional parameters.\n",
    "#for consistent things called every time"
   ]
  },
  {
   "cell_type": "markdown",
   "metadata": {},
   "source": [
    "##### Default Parameters"
   ]
  },
  {
   "cell_type": "code",
   "execution_count": 57,
   "metadata": {},
   "outputs": [
    {
     "name": "stdout",
     "output_type": "stream",
     "text": [
      "Hello Tuna Dusky Pecs.\n",
      "What kinda car? horse, clydesdale, 1899, 4?\n"
     ]
    }
   ],
   "source": [
    "# default paramaters need to be after non-default parameters at all times\n",
    "def printEntireFullName(first_name, last_name, middle_name=\"dusky\"):\n",
    "    print(\"Hello {} {} {}.\".format(first_name.title(), middle_name.title(), last_name.title()))\n",
    "    \n",
    "printEntireFullName(\"tUnA\", \"PeCs\")\n",
    "#example of this in use:\n",
    "def car(make, model, year, seat_capacity=\"10\"):\n",
    "    print(\"What kinda car? {}, {}, {}, {}?\".format(make, model, year, seat_capacity))\n",
    "    \n",
    "car(\"horse\", \"clydesdale\", \"1899\", \"4\")\n",
    "\n"
   ]
  },
  {
   "cell_type": "markdown",
   "metadata": {},
   "source": [
    "##### Making an Argument Optional"
   ]
  },
  {
   "cell_type": "code",
   "execution_count": 58,
   "metadata": {},
   "outputs": [
    {
     "name": "stdout",
     "output_type": "stream",
     "text": [
      "yo sup Baldy baldme@gmail.org Treebranch i know where you live\n"
     ]
    }
   ],
   "source": [
    "# name=''\n",
    "def printUserName(first, email=\"\", last=\"treebranch\"):\n",
    "    print(\"yo sup {} {} {} I know where you live\".format(first.title(), email, last.title()))\n",
    "    \n",
    "printUserName(\"baldy\", \"baldme@gmail.org\")\n",
    "\n"
   ]
  },
  {
   "cell_type": "markdown",
   "metadata": {},
   "source": [
    "##### Keyword Arguments"
   ]
  },
  {
   "cell_type": "code",
   "execution_count": null,
   "metadata": {},
   "outputs": [],
   "source": [
    "# last_name='Max', first_name='Smith' in the function call\n",
    "\n",
    "# see above"
   ]
  },
  {
   "cell_type": "markdown",
   "metadata": {},
   "source": [
    "# Creating a start, stop, step function"
   ]
  },
  {
   "cell_type": "code",
   "execution_count": 29,
   "metadata": {},
   "outputs": [
    {
     "name": "stdout",
     "output_type": "stream",
     "text": [
      "50\n",
      "52\n",
      "54\n",
      "56\n",
      "58\n",
      "60\n",
      "62\n",
      "64\n",
      "66\n",
      "68\n",
      "70\n",
      "72\n",
      "74\n",
      "76\n",
      "78\n",
      "80\n",
      "82\n",
      "84\n",
      "86\n",
      "88\n",
      "90\n",
      "92\n",
      "94\n",
      "96\n",
      "98\n"
     ]
    }
   ],
   "source": [
    "# def my_range(stop, start=0, step=1):\n",
    "def my_range(stop, start=0, step=1):\n",
    "    for i in range(start, stop, step):\n",
    "        print(i)\n",
    "    \n",
    "my_range(100, 50, 2)\n"
   ]
  },
  {
   "cell_type": "markdown",
   "metadata": {},
   "source": [
    "##### Returning Values"
   ]
  },
  {
   "cell_type": "code",
   "execution_count": 65,
   "metadata": {},
   "outputs": [
    {
     "name": "stdout",
     "output_type": "stream",
     "text": [
      "8\n"
     ]
    }
   ],
   "source": [
    "# using the return keyword, returns a certain value back to where the function was called\n",
    "def addnums(num1, num2):\n",
    "    return num1 + num2\n",
    "\n",
    "result = addnums(3,5)\n",
    "print(result)\n",
    "#so here, you basically create a function and define the answer as a variable\n",
    "#so that you can call up the variable later. \n"
   ]
  },
  {
   "cell_type": "markdown",
   "metadata": {},
   "source": [
    "##### *args"
   ]
  },
  {
   "cell_type": "code",
   "execution_count": 51,
   "metadata": {},
   "outputs": [
    {
     "name": "stdout",
     "output_type": "stream",
     "text": [
      "4\n",
      "5\n",
      "['hello', 'world', 'betamax', True, False, 67]\n",
      "hello\n",
      "world\n",
      "betamax\n",
      "True\n",
      "False\n",
      "67\n"
     ]
    },
    {
     "data": {
      "text/plain": [
       "11"
      ]
     },
     "execution_count": 51,
     "metadata": {},
     "output_type": "execute_result"
    }
   ],
   "source": [
    "# stands for arguments, takes any number of arguments as parameters\n",
    "# must be last if multiple parameters\n",
    "def printArguments(num1, num2, *args):\n",
    "    print(num1)\n",
    "    print(num2)\n",
    "    print([*args])\n",
    "    for arg in args:\n",
    "        print(arg)\n",
    "\n",
    "printArguments(4, 5, \"hello\", \"world\", \"betamax\", True, False, 67)\n",
    "#prints all the *args as a tuple. you can just put print(*args) if you want \n",
    "#to just print it not in a tuple, you add the *args and it mimics not beign\n",
    "#in a tuple.\n",
    "\n",
    "def testhere(num3, num4, *args):\n",
    "    for arg in args:\n",
    "        result = num3 + num4 + arg\n",
    "    return result\n",
    "\n",
    "testhere(4,5, 2, 5,2)\n",
    "    \n"
   ]
  },
  {
   "cell_type": "markdown",
   "metadata": {},
   "source": [
    "##### Docstring"
   ]
  },
  {
   "cell_type": "code",
   "execution_count": 52,
   "metadata": {},
   "outputs": [
    {
     "name": "stdout",
     "output_type": "stream",
     "text": [
      "Help on function testofdocstring in module __main__:\n",
      "\n",
      "testofdocstring(num1, num2)\n",
      "    this function adds numbers\n",
      "\n"
     ]
    }
   ],
   "source": [
    "# description of function, used with ''' ''' and accessed via function.__doc__\n",
    "#docstring is \"\"\"tells the enduser what the function does.\"\"\"\n",
    "#Basically, it adds an in-function help/FAQ about what the function does.\n",
    "#Always add this in!\n",
    "\n",
    "def testofdocstring(num1, num2):\n",
    "    \"\"\"this function adds numbers\"\"\"\n",
    "    result = num1 + num2\n",
    "    return result\n",
    "\n",
    "help(testofdocstring)"
   ]
  },
  {
   "cell_type": "markdown",
   "metadata": {},
   "source": [
    "##### Using a User Function in a Loop"
   ]
  },
  {
   "cell_type": "code",
   "execution_count": 53,
   "metadata": {},
   "outputs": [
    {
     "name": "stdout",
     "output_type": "stream",
     "text": [
      "[3, 4, 5, 5, 6, 7]\n",
      "[3, 4, 5, 5, 6, 7]\n",
      "[3, 4, 5, 5, 6, 7]\n"
     ]
    }
   ],
   "source": [
    "# add two lists together via index\n",
    "\n",
    "def add_lists(l_1, l_2):\n",
    "    \"\"\"this function adds two lists together\"\"\"\n",
    "    result = l_1 + l_2\n",
    "    return result\n",
    "    \n",
    "for i in range(3):\n",
    "    added_lists = add_lists([3,4,5], [5,6,7])\n",
    "    print(added_lists)\n",
    "    \n",
    "#so this is range(3), so 3 times this goes on. OH. \n"
   ]
  },
  {
   "cell_type": "markdown",
   "metadata": {},
   "source": [
    "## Function Exercise <br>\n",
    "<p>Write a function that loops through a list of first_names and a list of last_names, combines the two and return a list of full_names</p>"
   ]
  },
  {
   "cell_type": "code",
   "execution_count": 87,
   "metadata": {},
   "outputs": [
    {
     "data": {
      "text/plain": [
       "['ned',\n",
       " 'byron',\n",
       " 'tabitha',\n",
       " ['needington', 'batty', 'tootles'],\n",
       " ['needington', 'batty', 'tootles'],\n",
       " ['needington', 'batty', 'tootles']]"
      ]
     },
     "execution_count": 87,
     "metadata": {},
     "output_type": "execute_result"
    }
   ],
   "source": [
    "def full_name(first, last):\n",
    "    long_name = first\n",
    "    for value in range(len(first)):\n",
    "        long_name.append(last)\n",
    "    \n",
    "    return(long_name)\n",
    "\n",
    "first = [\"ned\", \"byron\", \"tabitha\"]\n",
    "last = [\"needington\", \"batty\", \"tootles\"]\n",
    "\n",
    "full_name(first, last)\n",
    "\n",
    "\n"
   ]
  },
  {
   "cell_type": "markdown",
   "metadata": {},
   "source": [
    "## Scope <br>\n",
    "<p>Scope refers to the ability to access variables, different types of scope include:<br>a) Global<br>b) Function (local)<br>c) Class (local)</p>"
   ]
  },
  {
   "cell_type": "code",
   "execution_count": 55,
   "metadata": {},
   "outputs": [
    {
     "name": "stdout",
     "output_type": "stream",
     "text": [
      "36\n",
      "6\n"
     ]
    },
    {
     "ename": "NameError",
     "evalue": "name 'num3' is not defined",
     "output_type": "error",
     "traceback": [
      "\u001b[1;31m---------------------------------------------------------------------------\u001b[0m",
      "\u001b[1;31mNameError\u001b[0m                                 Traceback (most recent call last)",
      "\u001b[1;32m<ipython-input-55-fb38e59ea67e>\u001b[0m in \u001b[0;36m<module>\u001b[1;34m\u001b[0m\n\u001b[0;32m      9\u001b[0m \u001b[0mprint\u001b[0m\u001b[1;33m(\u001b[0m\u001b[0mnumber\u001b[0m\u001b[1;33m)\u001b[0m\u001b[1;33m\u001b[0m\u001b[1;33m\u001b[0m\u001b[0m\n\u001b[0;32m     10\u001b[0m \u001b[0mprint\u001b[0m\u001b[1;33m(\u001b[0m\u001b[0mnew_number\u001b[0m\u001b[1;33m)\u001b[0m\u001b[1;33m\u001b[0m\u001b[1;33m\u001b[0m\u001b[0m\n\u001b[1;32m---> 11\u001b[1;33m \u001b[0mprint\u001b[0m\u001b[1;33m(\u001b[0m\u001b[0mnum3\u001b[0m\u001b[1;33m)\u001b[0m\u001b[1;33m\u001b[0m\u001b[1;33m\u001b[0m\u001b[0m\n\u001b[0m\u001b[0;32m     12\u001b[0m \u001b[1;31m#you can't print num3 cause it only exists inside of myFunc.\u001b[0m\u001b[1;33m\u001b[0m\u001b[1;33m\u001b[0m\u001b[1;33m\u001b[0m\u001b[0m\n\u001b[0;32m     13\u001b[0m \u001b[1;33m\u001b[0m\u001b[0m\n",
      "\u001b[1;31mNameError\u001b[0m: name 'num3' is not defined"
     ]
    }
   ],
   "source": [
    "# placement of variable declaration matters\n",
    "number = 36\n",
    "\n",
    "def myFunc():\n",
    "    num3 = 6\n",
    "    return num3\n",
    "\n",
    "new_number = myFunc()\n",
    "print(number)\n",
    "print(new_number)\n",
    "print(num3)\n",
    "#you can't print num3 cause it only exists inside of myFunc.\n",
    "\n",
    "\n"
   ]
  },
  {
   "cell_type": "markdown",
   "metadata": {},
   "source": [
    "# Exercises"
   ]
  },
  {
   "cell_type": "markdown",
   "metadata": {},
   "source": [
    "## Exercise 1 <br>\n",
    "<p>Write a function that performs a bubble sort<br><i><b>Hint: in place assignment is 'num[x], num[x+1] = num[x+1], num[x]'</b></i></p>"
   ]
  },
  {
   "cell_type": "code",
   "execution_count": 3,
   "metadata": {},
   "outputs": [
    {
     "name": "stdout",
     "output_type": "stream",
     "text": [
      "[1, 2, 4, 6, 6, 7, 7, 234, 3567, 6254]\n"
     ]
    }
   ],
   "source": [
    "def bulbasaur(list):\n",
    "    length = len(list)\n",
    "    for num in range(length):\n",
    "        for othernum in range(0, length - num -1):\n",
    "            if list[othernum] > list[othernum + 1]:\n",
    "                list[othernum], list[othernum + 1] = list[othernum+1], list[othernum]\n",
    "    print(list)\n",
    "list = [7,2,6254,1,4,6,7,3567,234,6]\n",
    "bulbasaur(list)"
   ]
  },
  {
   "cell_type": "markdown",
   "metadata": {},
   "source": [
    "## Exercise 2 <br>\n",
    "<p>Write a function that takes in two lists and returns the two lists merged together and sorted<br>\n",
    "<b><i>Hint: You can use the .sort() method</i></b></p>"
   ]
  },
  {
   "cell_type": "code",
   "execution_count": 106,
   "metadata": {},
   "outputs": [
    {
     "name": "stdout",
     "output_type": "stream",
     "text": [
      "[1, 2, 3, 4, 6, 6, 32, 57, 123, 234, 562]\n"
     ]
    }
   ],
   "source": [
    "# def merged(aList, bList):\n",
    "#     return sorted(aList + bList)\n",
    "def merged(alist, blist):\n",
    "    \"\"\"this function adds two lists together and permanently sorts them in ascending order\"\"\"\n",
    "    ultimate = alist + blist\n",
    "    ultimate.sort()\n",
    "    print(ultimate)\n",
    "\n",
    "\n",
    "alist = [1,2,3,6,57,234]\n",
    "blist = [32,562,123,4,6,]\n",
    "merged(alist, blist)\n",
    "    \n",
    "\n",
    "# adds up lists together by index and returns sum of each index in sorted order\n"
   ]
  },
  {
   "cell_type": "markdown",
   "metadata": {},
   "source": [
    "## Exercise 3 <br>\n",
    "<p> Ask the user to input a number and check if that number is prime using a function, loop until they no longer want to check a number.<br><b><i>Hint: Use yesterday's prime number code</i></b></p>"
   ]
  },
  {
   "cell_type": "code",
   "execution_count": 4,
   "metadata": {},
   "outputs": [
    {
     "name": "stdout",
     "output_type": "stream",
     "text": [
      "Give me a number and I'll tell you if it's prime. If you want me to stop type any words.7\n",
      "That is a prime number!\n",
      "Give me a number and I'll tell you if it's prime. If you want me to stop type any words.9\n",
      "That is a prime number!\n",
      "Give me a number and I'll tell you if it's prime. If you want me to stop type any words.3et\n",
      "fine, i didn't want to play with you anyway.\n"
     ]
    }
   ],
   "source": [
    "#user = input asking the user for a number\n",
    "#while loops, playing = True, if user.title() == \"Stop\", playing = False\n",
    "#play the game by calling the function\n",
    "\n",
    "def prime_game():\n",
    "    playing = True\n",
    "    while playing:\n",
    "        try:\n",
    "            user = input(\n",
    "            \"Give me a number and I'll tell you if it's prime. If you want me to stop type any words.\")\n",
    "            if int(user) % 2 == 1:\n",
    "                print(\"That is a prime number!\")\n",
    "            elif int(user) % 2 == 0:\n",
    "                print(\"That's not a prime number.\")\n",
    "            elif user == str:\n",
    "                print(\"that's no number\")\n",
    "        except ValueError:\n",
    "            print(\"fine, i didn't want to play with you anyway.\")\n",
    "            playing = False\n",
    "            \n",
    "                \n",
    "prime_game()"
   ]
  },
  {
   "cell_type": "markdown",
   "metadata": {},
   "source": [
    "## Exercise 4 <br>\n",
    "<p>Ask the user to input a number of rows they'd like to build a pyramid to... then build a pyramid to that specific number of rows.<br><b><i>Hint: Use the pyramid code from yesterday and throw it into a function</i></b></p>"
   ]
  },
  {
   "cell_type": "code",
   "execution_count": 7,
   "metadata": {},
   "outputs": [
    {
     "name": "stdout",
     "output_type": "stream",
     "text": [
      "How many rows should this Illuminati pyramid have?20\n",
      "                    \n",
      "                   x \n",
      "                  x x \n",
      "                 x x x \n",
      "                x x x x \n",
      "               x x x x x \n",
      "              x x x x x x \n",
      "             x x x x x x x \n",
      "            x x x x x x x x \n",
      "           x x x x x x x x x \n",
      "          x x x x x x x x x x \n",
      "         x x x x x x x x x x x \n",
      "        x x x x x x x x x x x x \n",
      "       x x x x x x x x x x x x x \n",
      "      x x x x x x x x x x x x x x \n",
      "     x x x x x x x x x x x x x x x \n",
      "    x x x x x x x x x x x x x x x x \n",
      "   x x x x x x x x x x x x x x x x x \n",
      "  x x x x x x x x x x x x x x x x x x \n",
      " x x x x x x x x x x x x x x x x x x x \n"
     ]
    }
   ],
   "source": [
    "def pyramid():\n",
    "    try:\n",
    "        user_rows = int(input(\n",
    "            \"How many rows should this Illuminati pyramid have? \"))\n",
    "        for num in range(user_rows):\n",
    "            print(\" \" * (user_rows - num) + 'x ' * num)\n",
    "    except ValueError:\n",
    "        print(\"you didn't give me an integer. Run this again.\")\n",
    "        \n",
    "pyramid()\n",
    "    "
   ]
  },
  {
   "cell_type": "markdown",
   "metadata": {},
   "source": [
    "## Exercise 5 <br>\n",
    "<p>Create a calculator using functions that asks for two numbers and performs a calculation that the user inputs... Loop until the user chooses not to perform any more calculations.<br><b><i>Hint: Take yesterday's code from the extra exercise...</i></b></p>"
   ]
  },
  {
   "cell_type": "code",
   "execution_count": null,
   "metadata": {},
   "outputs": [
    {
     "name": "stdout",
     "output_type": "stream",
     "text": [
      "Do you want to add to, divide from, mulitply, or subtract from this number? If you want to stop, type stop.subtract\n",
      "What's the first number?89\n",
      "Great, second number?3\n",
      "89.0 - 3.0 = 86.0\n",
      "What's the first number?709\n",
      "Great, second number?3\n",
      "709.0 - 3.0 = 706.0\n"
     ]
    }
   ],
   "source": [
    "#attempted this, but only built a calculator that gets the user stuck in a loop in whatever \n",
    "#addition, sub, divide, multiplication they want to do. So, it works...but you can only ever\n",
    "#restart the program to quit. \n",
    "\n",
    "def calculator():\n",
    "    calculating = True\n",
    "    affect = input(\n",
    "            \"Do you want to add to, divide from, mulitply, or subtract from this number? If you want to stop, type stop.\")\n",
    "    while calculating:\n",
    "        if affect.lower() == \"add\":\n",
    "                num1 = float(input(\"What's the first number?\"))\n",
    "                num2 = float(input(\"Great, second number?\"))\n",
    "                addition = num1 + num2\n",
    "                print(\"{} + {} = {} \".format(num1, num2, addition))\n",
    "        elif affect.lower() == \"divide\":\n",
    "            num1 = float(input(\"What's the first number?\"))\n",
    "            num2 = float(input(\"Great, second number?\"))\n",
    "            division = num1 / num2\n",
    "            print(\"{} / {} = {}\".format(num1, num2, division))\n",
    "        elif affect.lower() == \"mulitply\":\n",
    "            num1 = float(input(\"What's the first number?\"))\n",
    "            num2 = float(input(\"Great, second number?\"))\n",
    "            multiplication = num1 * num2\n",
    "            print(\"{} * {} = {}\".format(num1, num2, multiplication))\n",
    "        elif affect.lower() == \"subtract\":\n",
    "            num1 = float(input(\"What's the first number?\"))\n",
    "            num2 = float(input(\"Great, second number?\"))\n",
    "            subtraction = num1 - num2\n",
    "            print(\"{} - {} = {}\".format(num1, num2, subtraction))\n",
    "        elif affect.lower == \"stop\":\n",
    "            print(\"See you next time!\")\n",
    "            calculating = False\n",
    "            break\n",
    "calculator()"
   ]
  },
  {
   "cell_type": "code",
   "execution_count": null,
   "metadata": {},
   "outputs": [],
   "source": []
  }
 ],
 "metadata": {
  "kernelspec": {
   "display_name": "Python 3",
   "language": "python",
   "name": "python3"
  }
 },
 "nbformat": 4,
 "nbformat_minor": 2
}
